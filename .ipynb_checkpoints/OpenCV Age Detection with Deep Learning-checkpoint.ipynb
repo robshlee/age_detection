{
 "cells": [
  {
   "cell_type": "markdown",
   "metadata": {},
   "source": [
    "# OpenCV Age Detection with Deep Learning\n",
    "\n",
    "I've worked with CNNs to classify images and create generative models but it has been some time so this project will help bring me back up to speed. I've also never worked with OpenCV so this will be a good primer.\n",
    "\n",
    "For this project we'll predict the age of a person through static files and then for real-time video streams. \n",
    "\n",
    "This is a code along with the tutorial provided by pyimagesearch. https://www.pyimagesearch.com/2020/04/13/opencv-age-detection-with-deep-learning/"
   ]
  },
  {
   "cell_type": "markdown",
   "metadata": {},
   "source": [
    "#### Age detection is typically implemented as a two-stage process.\n",
    "1. Detect faces in the input image/video stream\n",
    "2. Extract the face Region of Interest (ROI), and apply the age detector algorithm to predict the age of the person.\n",
    "\n",
    "For the first step, any face detector capable of producting bounding boxes for faces in an image can be used.\n",
    "Which face detector depends on your project. Below are a few examples. \n",
    "\n",
    "<li>Haar cascades will be very fast and capable of running in real-time on embedded devices — the problem is that they are less accurate and highly prone to false-positive detections</li>\n",
    "<li>HOG + Linear SVM models are more accurate than Haar cascades but are slower. They also aren’t as tolerant with occlusion (i.e., not all of the face visible) or viewpoint changes (i.e., different views of the face)</li>\n",
    "<li>Deep learning-based face detectors are the most robust and will give you the best accuracy, but require even more computational resources than both Haar cascades and HOG + Linear SVMs</li>\n",
    "\n",
    "For the scope of this project we'll stick with the deep learning algorithms.\n",
    "\n",
    "The model we'll be working with was implemented and trained by Levi and Hassner in their 2015 publication, Age and Gender Classification Using Convolutional Neural Networks.\n",
    "The model learns a total of 8 age brackets:\n",
    "0-2\n",
    "4-6\n",
    "8-12\n",
    "15-20\n",
    "25-32\n",
    "38-43\n",
    "48-53\n",
    "60-100\n",
    "\n",
    "The age brakckets are not inclusive of all ages which was done on purpose for the dataset we'll be using (which will be explained why later). \n",
    "\n",
    "A disclaimer for age prediction models is that it is inherently subjective and solely based on appearance. Some people just look older or younger than their actual age which will throw off both people and machine alike. "
   ]
  },
  {
   "cell_type": "markdown",
   "metadata": {},
   "source": [
    "Let's now get to coding."
   ]
  },
  {
   "cell_type": "code",
   "execution_count": 2,
   "metadata": {},
   "outputs": [
    {
     "ename": "ModuleNotFoundError",
     "evalue": "No module named 'cv2'",
     "output_type": "error",
     "traceback": [
      "\u001b[0;31m---------------------------------------------------------------------------\u001b[0m",
      "\u001b[0;31mModuleNotFoundError\u001b[0m                       Traceback (most recent call last)",
      "\u001b[0;32m<ipython-input-2-62212560bec5>\u001b[0m in \u001b[0;36m<module>\u001b[0;34m\u001b[0m\n\u001b[1;32m      2\u001b[0m \u001b[0;32mimport\u001b[0m \u001b[0mnumpy\u001b[0m \u001b[0;32mas\u001b[0m \u001b[0mnp\u001b[0m\u001b[0;34m\u001b[0m\u001b[0;34m\u001b[0m\u001b[0m\n\u001b[1;32m      3\u001b[0m \u001b[0;32mimport\u001b[0m \u001b[0margparse\u001b[0m\u001b[0;34m\u001b[0m\u001b[0;34m\u001b[0m\u001b[0m\n\u001b[0;32m----> 4\u001b[0;31m \u001b[0;32mimport\u001b[0m \u001b[0mcv2\u001b[0m\u001b[0;34m\u001b[0m\u001b[0;34m\u001b[0m\u001b[0m\n\u001b[0m\u001b[1;32m      5\u001b[0m \u001b[0;32mimport\u001b[0m \u001b[0mos\u001b[0m\u001b[0;34m\u001b[0m\u001b[0;34m\u001b[0m\u001b[0m\n",
      "\u001b[0;31mModuleNotFoundError\u001b[0m: No module named 'cv2'"
     ]
    }
   ],
   "source": [
    "# import packages\n",
    "import numpy as np\n",
    "import argparse\n",
    "import cv2\n",
    "import os\n",
    "\n",
    "# parse arguements\n",
    "ap = argparse.ArguementParser()\n",
    "ap.add_argument('-i', '--image', required=True,\n",
    "                help='path to input image')\n",
    "ap.add_argument('-f', '--face', required=True,\n",
    "                help='path to face detector model directory')\n",
    "ap.add_argument('-a', '--age', required=True,\n",
    "                help='path to age detector model directory')\n",
    "ap.add_argument('-c', '--confidence', type=float, default=0.5,\n",
    "                help='minimum probability to filter weak dtections')\n",
    "args = vars(ap.parse_args())"
   ]
  },
  {
   "cell_type": "code",
   "execution_count": null,
   "metadata": {},
   "outputs": [],
   "source": []
  },
  {
   "cell_type": "code",
   "execution_count": null,
   "metadata": {},
   "outputs": [],
   "source": []
  },
  {
   "cell_type": "code",
   "execution_count": null,
   "metadata": {},
   "outputs": [],
   "source": []
  },
  {
   "cell_type": "code",
   "execution_count": null,
   "metadata": {},
   "outputs": [],
   "source": []
  },
  {
   "cell_type": "code",
   "execution_count": null,
   "metadata": {},
   "outputs": [],
   "source": []
  },
  {
   "cell_type": "code",
   "execution_count": null,
   "metadata": {},
   "outputs": [],
   "source": []
  },
  {
   "cell_type": "code",
   "execution_count": null,
   "metadata": {},
   "outputs": [],
   "source": []
  },
  {
   "cell_type": "code",
   "execution_count": null,
   "metadata": {},
   "outputs": [],
   "source": []
  },
  {
   "cell_type": "code",
   "execution_count": null,
   "metadata": {},
   "outputs": [],
   "source": []
  },
  {
   "cell_type": "code",
   "execution_count": null,
   "metadata": {},
   "outputs": [],
   "source": []
  },
  {
   "cell_type": "code",
   "execution_count": null,
   "metadata": {},
   "outputs": [],
   "source": []
  },
  {
   "cell_type": "code",
   "execution_count": null,
   "metadata": {},
   "outputs": [],
   "source": []
  }
 ],
 "metadata": {
  "kernelspec": {
   "display_name": "Python 3.7.3 64-bit ('base': conda)",
   "language": "python",
   "name": "python37364bitbasecondad20db39f2e334471a0195e7094416b2c"
  },
  "language_info": {
   "codemirror_mode": {
    "name": "ipython",
    "version": 3
   },
   "file_extension": ".py",
   "mimetype": "text/x-python",
   "name": "python",
   "nbconvert_exporter": "python",
   "pygments_lexer": "ipython3",
   "version": "3.7.3"
  }
 },
 "nbformat": 4,
 "nbformat_minor": 2
}
